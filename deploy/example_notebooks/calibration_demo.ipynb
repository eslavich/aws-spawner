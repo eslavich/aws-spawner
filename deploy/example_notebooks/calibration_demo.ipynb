{
 "cells": [
  {
   "cell_type": "code",
   "execution_count": 2,
   "metadata": {},
   "outputs": [],
   "source": [
    "from astroquery.mast import Observations\n",
    "from jwst.pipeline import Detector1Pipeline"
   ]
  },
  {
   "cell_type": "code",
   "execution_count": 3,
   "metadata": {},
   "outputs": [],
   "source": [
    "DATA_URL = \"mast:JWST/product/jw00817007001_02104_00001_nrs1_uncal.fits\"\n",
    "LOCAL_PATH = \"jw00817007001_02104_00001_nrs1_uncal.fits\""
   ]
  },
  {
   "cell_type": "code",
   "execution_count": 4,
   "metadata": {},
   "outputs": [],
   "source": [
    "def download_mast(data_url, target):\n",
    "    Observations._download_file(\"https://pwjwdmsauiweb.stsci.edu/portal/Download/file\" + \"?uri=\" + data_url, target)"
   ]
  },
  {
   "cell_type": "code",
   "execution_count": 5,
   "metadata": {},
   "outputs": [
    {
     "name": "stdout",
     "output_type": "stream",
     "text": [
      "Downloading URL https://pwjwdmsauiweb.stsci.edu/portal/Download/file?uri=mast:JWST/product/jw00817007001_02104_00001_nrs1_uncal.fits to jw00817007001_02104_00001_nrs1_uncal.fits ... [Done]\n"
     ]
    }
   ],
   "source": [
    "download_mast(DATA_URL, LOCAL_PATH)"
   ]
  },
  {
   "cell_type": "code",
   "execution_count": null,
   "metadata": {},
   "outputs": [],
   "source": [
    "Detector1Pipeline.call(LOCAL_PATH)"
   ]
  }
 ],
 "metadata": {
  "kernelspec": {
   "display_name": "Python 3",
   "language": "python",
   "name": "python3"
  },
  "language_info": {
   "codemirror_mode": {
    "name": "ipython",
    "version": 3
   },
   "file_extension": ".py",
   "mimetype": "text/x-python",
   "name": "python",
   "nbconvert_exporter": "python",
   "pygments_lexer": "ipython3",
   "version": "3.6.9"
  }
 },
 "nbformat": 4,
 "nbformat_minor": 4
}
